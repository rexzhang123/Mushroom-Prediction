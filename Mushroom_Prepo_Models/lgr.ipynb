{
 "cells": [
  {
   "cell_type": "code",
   "execution_count": 5,
   "id": "f155aa3f-f29c-4e70-b09f-48148ff43b15",
   "metadata": {},
   "outputs": [
    {
     "name": "stdout",
     "output_type": "stream",
     "text": [
      "Accuracy: 0.8344904375163741\n",
      "F1: 0.8343808425003126\n"
     ]
    }
   ],
   "source": [
    "import pandas as pd\n",
    "import numpy as np\n",
    "\n",
    "from sklearn.preprocessing import StandardScaler\n",
    "from sklearn.model_selection import train_test_split\n",
    "from sklearn.linear_model import LogisticRegression\n",
    "from sklearn import metrics\n",
    "from sklearn.model_selection import GridSearchCV\n",
    "from sklearn.metrics import f1_score\n",
    "\n",
    "def lgr(X_train, X_test, y_train, y_test):\n",
    "\n",
    "    clf = LogisticRegression(random_state=0, max_iter=1000)\n",
    "    clf.fit(X_train, y_train)\n",
    "    y_pred = clf.predict(X_test)\n",
    "\n",
    "    return y_pred\n",
    "\n",
    "\n",
    "def main():\n",
    "\n",
    "    X_train = pd.read_csv('xTrain.csv')\n",
    "    X_test = pd.read_csv('xTest.csv')\n",
    "    y_train = pd.read_csv('yTrain.csv')\n",
    "    y_test = pd.read_csv('yTest.csv')\n",
    "\n",
    "    X_train = X_train.to_numpy()\n",
    "    X_test = X_test.to_numpy()\n",
    "    y_train = y_train.to_numpy().ravel()\n",
    "    y_test = y_test.to_numpy().ravel()\n",
    "\n",
    "    y_pred = lgr(X_train, X_test, y_train.ravel(), y_test.ravel())\n",
    "    print(\"Accuracy:\", metrics.accuracy_score(y_test, y_pred))\n",
    "    print(\"F1:\", f1_score(y_test, y_pred, average='weighted'))\n",
    "    \n",
    "#     clf = GridSearchCV(\n",
    "#         KNeighborsClassifier(), \n",
    "#         [{'n_neighbors': range(1,17,5), 'metric': ['euclidean','manhattan']}], cv=5, scoring='accuracy')\n",
    "    \n",
    "#     clf.fit(X_train, y_train)\n",
    "#     y_pred = clf.predict(X_test)\n",
    "    \n",
    "#     print(\"Best parameters set found on development set:\")\n",
    "#     print(clf.best_params_)\n",
    "#     print()\n",
    "#     print(\"Accuracy:\", metrics.accuracy_score(y_test, y_pred))\n",
    "#     print(\"F1:\", f1_score(y_test, y_pred, average='micro'))\n",
    "    \n",
    "\n",
    "\n",
    "\n",
    "if __name__ == '__main__':\n",
    "    main()"
   ]
  },
  {
   "cell_type": "code",
   "execution_count": null,
   "id": "18d05d96-56d0-455f-862e-ea39f96dcc29",
   "metadata": {},
   "outputs": [],
   "source": []
  }
 ],
 "metadata": {
  "kernelspec": {
   "display_name": "Python 3 (ipykernel)",
   "language": "python",
   "name": "python3"
  },
  "language_info": {
   "codemirror_mode": {
    "name": "ipython",
    "version": 3
   },
   "file_extension": ".py",
   "mimetype": "text/x-python",
   "name": "python",
   "nbconvert_exporter": "python",
   "pygments_lexer": "ipython3",
   "version": "3.9.4"
  }
 },
 "nbformat": 4,
 "nbformat_minor": 5
}
