{
 "cells": [
  {
   "cell_type": "code",
   "execution_count": 30,
   "id": "ca23e067-e425-4e8c-83d8-fb53132b8318",
   "metadata": {},
   "outputs": [],
   "source": [
    "import pandas as pd\n",
    "import numpy as np\n",
    "\n",
    "from sklearn.preprocessing import StandardScaler\n",
    "from sklearn.model_selection import train_test_split\n",
    "from sklearn.neighbors import KNeighborsClassifier\n",
    "from sklearn import metrics\n",
    "\n",
    "\n",
    "def normalize(xTrain, xTest):\n",
    "\n",
    "    scaler = StandardScaler()\n",
    "    scaler.fit(xTrain)\n",
    "\n",
    "    xTrain_normalized = scaler.transform(xTrain)\n",
    "    xTest_normalized = scaler.transform(xTest)\n",
    "\n",
    "    return xTrain_normalized, xTest_normalized\n",
    "\n",
    "def main():\n",
    "    \n",
    "\n",
    "    X_train = pd.read_csv('xTrain.csv')\n",
    "    X_test = pd.read_csv('xTest.csv')\n",
    "    y_train = pd.read_csv('yTrain.csv')\n",
    "    y_test = pd.read_csv('yTest.csv')\n",
    "    \n",
    "    features = list(X_train.columns)\n",
    "    \n",
    "    X_train, X_test = normalize(X_train, X_test)\n",
    "    \n",
    "    X_train = pd.DataFrame(X_train, columns = features)\n",
    "    \n",
    "    X_test = pd.DataFrame(X_test, columns = features)\n",
    "    \n",
    "    X_train.to_csv(\"xTrain.csv\", index=False)\n",
    "    X_test.to_csv(\"xTest.csv\", index=False)\n",
    "\n",
    "\n",
    "\n",
    "if __name__ == '__main__':\n",
    "    main()"
   ]
  },
  {
   "cell_type": "code",
   "execution_count": null,
   "id": "509b06b7-bdfc-4e40-bde7-5cc5d3a56eb2",
   "metadata": {},
   "outputs": [],
   "source": []
  }
 ],
 "metadata": {
  "kernelspec": {
   "display_name": "Python 3 (ipykernel)",
   "language": "python",
   "name": "python3"
  },
  "language_info": {
   "codemirror_mode": {
    "name": "ipython",
    "version": 3
   },
   "file_extension": ".py",
   "mimetype": "text/x-python",
   "name": "python",
   "nbconvert_exporter": "python",
   "pygments_lexer": "ipython3",
   "version": "3.9.4"
  }
 },
 "nbformat": 4,
 "nbformat_minor": 5
}
